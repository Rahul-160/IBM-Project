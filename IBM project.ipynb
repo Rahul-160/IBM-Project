{
 "cells": [
  {
   "cell_type": "markdown",
   "metadata": {},
   "source": [
    "<center>\n",
    "    <img src=\"https://cf-courses-data.s3.us.cloud-object-storage.appdomain.cloud/IBMDeveloperSkillsNetwork-DS0105EN-SkillsNetwork/labs/Module2/images/SN_web_lightmode.png\" width=\"300\" alt=\"cognitiveclass.ai logo\">\n",
    "</center>\n"
   ]
  },
  {
   "cell_type": "markdown",
   "metadata": {},
   "source": [
    "# My Submission\n"
   ]
  },
  {
   "cell_type": "markdown",
   "metadata": {},
   "source": [
    "## Introduction\n",
    "\n",
    "I am a tech enthusiast and my goal is to become a data scientist."
   ]
  },
  {
   "cell_type": "markdown",
   "metadata": {},
   "source": [
    "## Data Science languages used\n",
    "\n",
    "- **Python**: Python is one of the most popular languages for data science. It has numerous libraries like NumPy, Pandas, and scikit-learn.\n",
    "\n",
    "- **R**: R is another widely used data science language. It offers extensive statistical capabilities and visualization through es like ggplot2 and dplyr.\n",
    "\n",
    "- **SQL**: SQL (Structured Query Language) is essential for working with relational databases.\n",
    "\n",
    "- **Julia**: Julia is getting noticed in the data science community.\n",
    "- **Scala**: Scala is popular for big data processing and distributed computing tasks.\n",
    "\n",
    "- **Java**: Java is used in various data science applications. It's often employed for building scalable and robust systems.\n",
    "\n",
    "- **MATLAB**: MATLAB is widely used in engineering and scientific research for numerical computing, data analysis, and visualization."
   ]
  },
  {
   "cell_type": "markdown",
   "metadata": {},
   "source": [
    "## Data Science libraries used\n",
    "\n",
    "- **Python** : Pandas, Numpy, Scikit-Learn, Matplotlib, Seaborn, Pytorch, Tensorflow \n",
    "- **R** : ggplot2, dplyr, tidyr, caret, randomforest"
   ]
  },
  {
   "cell_type": "markdown",
   "metadata": {},
   "source": [
    "## Data Science tools Used\n",
    "\n",
    "\n",
    "| Tool          | Description                                                                                        |\n",
    "|---------------|----------------------------------------------------------------------------------------------------|\n",
    "| Python        | Python is one of the most popular languages for data science. It has numerous libraries like NumPy, Pandas, and scikit-learn.|\n",
    "| R             | R is another widely used data science language. It offers extensive statistical capabilities and visualization through es like ggplot2 and dplyr. |\n",
    "| SQL           | SQL (Structured Query Language) is essential for working with relational databases.                  |\n",
    "| Jupyter       | Open source - Interactive computing environment that enables creation and sharing of documents containing live code, equations, visualizations, and narrative text. |\n",
    "| Apache Spark  | Open-source distributed computing system.               |\n",
    "| Tableau       | Business intelligence and data visualization tool. |\n",
    "| SAS           | Statistical analysis software suite. |\n",
    "| MATLAB        | MATLAB is widely used in engineering and scientific research for numerical computing, data analysis, and visualization.       |\n",
    "| Excel         | Microsoft spredsheet software used for data analysis.  |"
   ]
  },
  {
   "cell_type": "markdown",
   "metadata": {},
   "source": [
    "## Introduction to Arithmetic Expression Examples\n",
    "\n",
    "1. **Basic Operations**: If A and B are operands then Addition, subtraction, multiplication, and division are A + B, A - B, A * B, A / B respectively.\n",
    "\n",
    "2. **Order of Operations**: Understanding the order of operations PEDMAS is needed for correctly evaluating arithmetic expressions.\n",
    "\n",
    "3. **Parentheses**: Parentheses are used to specify the order of operations and override the default precedence rules.\n",
    "\n",
    "4. **Fractional Arithmetic**: Arithmetic expressions can involve fractions and decimals.\n",
    "\n",
    "5. **Exponents and Roots**: Exponents and roots are mathematical operations involving powers and radicals.\n",
    "6. **Combining Operations**: Real-world mathematical problems often require combining multiple operators. "
   ]
  },
  {
   "cell_type": "code",
   "execution_count": null,
   "metadata": {
    "tags": []
   },
   "outputs": [],
   "source": [
    "Multiply = 9 * 8 \n",
    "Add = 4 + 3\n",
    "print(Multiply)\n",
    "print(Add)"
   ]
  },
  {
   "cell_type": "code",
   "execution_count": null,
   "metadata": {},
   "outputs": [],
   "source": []
  }
 ],
 "metadata": {
  "kernelspec": {
   "display_name": "Python",
   "language": "python",
   "name": "conda-env-python-py"
  },
  "language_info": {
   "codemirror_mode": {
    "name": "ipython",
    "version": 3
   },
   "file_extension": ".py",
   "mimetype": "text/x-python",
   "name": "python",
   "nbconvert_exporter": "python",
   "pygments_lexer": "ipython3",
   "version": "3.7.12"
  }
 },
 "nbformat": 4,
 "nbformat_minor": 4
}
